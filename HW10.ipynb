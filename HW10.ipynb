{
 "cells": [
  {
   "cell_type": "code",
   "execution_count": null,
   "id": "d2583ba4-c1bb-4744-a612-419fd307675e",
   "metadata": {},
   "outputs": [],
   "source": [
    "from surprise import Dataset\n",
    "from surprise import Reader\n",
    "from surprise.model_selection import cross_validate\n",
    "from surprise import SVD, SVDpp, NMF"
   ]
  },
  {
   "cell_type": "code",
   "execution_count": null,
   "id": "bf02f307-ccd5-4480-bf76-73a2492e16db",
   "metadata": {},
   "outputs": [],
   "source": [
    "data = Dataset.load_builtin('ml-100k')\n",
    "\n",
    "algorithms = {\n",
    "    'SVD': SVD(),\n",
    "    'SVD++': SVDpp(),\n",
    "    'NMF': NMF()\n",
    "}\n",
    "\n",
    "results = {}\n",
    "\n",
    "for name, algo in algorithms.items():\n",
    "    print(f\"Evaluating {name}...\")\n",
    "    cross_val_result = cross_validate(algo, data, measures=['RMSE', 'MAE'], cv=5, verbose=True)\n",
    "    results[name] = cross_val_result\n",
    "\n",
    "results_summary = {name: {\n",
    "    'RMSE': result['test_rmse'].mean(),\n",
    "    'MAE': result['test_mae'].mean()\n",
    "} for name, result in results.items()}\n",
    "\n",
    "print(\"Results Summary:\")\n",
    "for name, metrics in results_summary.items():\n",
    "    print(f\"{name}: RMSE = {metrics['RMSE']:.4f}, MAE = {metrics['MAE']:.4f}\")"
   ]
  }
 ],
 "metadata": {
  "kernelspec": {
   "display_name": "Python 3 (ipykernel)",
   "language": "python",
   "name": "python3"
  },
  "language_info": {
   "codemirror_mode": {
    "name": "ipython",
    "version": 3
   },
   "file_extension": ".py",
   "mimetype": "text/x-python",
   "name": "python",
   "nbconvert_exporter": "python",
   "pygments_lexer": "ipython3",
   "version": "3.12.3"
  }
 },
 "nbformat": 4,
 "nbformat_minor": 5
}
